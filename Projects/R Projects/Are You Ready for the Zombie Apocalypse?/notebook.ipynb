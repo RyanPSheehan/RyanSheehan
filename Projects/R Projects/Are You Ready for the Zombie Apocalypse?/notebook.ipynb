{
 "cells": [
  {
   "cell_type": "markdown",
   "metadata": {
    "dc": {
     "key": "4"
    },
    "deletable": false,
    "editable": false,
    "run_control": {
     "frozen": true
    },
    "tags": [
     "context"
    ]
   },
   "source": [
    "## 1. ZOMBIES!\n",
    "<p>News reports suggest that the impossible has become possible...zombies have appeared on the streets of the US! What should we do? The Centers for Disease Control and Prevention (CDC) <a href=\"https://www.cdc.gov/cpr/zombie/index.htm\">zombie preparedness website</a> recommends storing water, food, medication, tools, sanitation items, clothing, essential documents, and first aid supplies. Thankfully, we are CDC analysts and are prepared, but it may be too late for others! </p>\n",
    "<p>Our team decides to identify supplies that protect people and coordinate supply distribution. A few brave data collectors volunteer to check on 200 randomly selected adults who were alive before the zombies. We have recent data for the 200 on age and sex, how many are in their household, and their rural, suburban, or urban location. Our heroic volunteers visit each home and record zombie status and preparedness. Now it's our job to figure out which supplies are associated with safety!</p>\n",
    "<p><br>\n",
    "<center>\n",
    "    <img src=\"https://assets.datacamp.com/production/project_668/img/zombie-wide.jpg\" width=\"700px\">\n",
    "</center><br></p>"
   ]
  },
  {
   "cell_type": "code",
   "execution_count": null,
   "metadata": {
    "dc": {
     "key": "4"
    }
   },
   "outputs": [],
   "source": []
  },
  {
   "cell_type": "code",
   "execution_count": null,
   "metadata": {
    "dc": {
     "key": "4"
    },
    "tags": [
     "sample_code"
    ]
   },
   "outputs": [],
   "source": []
  },
  {
   "cell_type": "markdown",
   "metadata": {
    "dc": {
     "key": "12"
    },
    "deletable": false,
    "editable": false,
    "run_control": {
     "frozen": true
    },
    "tags": [
     "context"
    ]
   },
   "source": [
    "## 2. Compare zombies and humans\n",
    "<p>Because every moment counts when dealing with life and (un)death, we want to get this right! The first task is to compare humans and zombies to identify differences in supplies. We review the data and find the following: </p>\n",
    "<ul>\n",
    "<li>zombieid: unique identifier </li>\n",
    "<li>zombie: human or zombie</li>\n",
    "<li>age: age in years </li>\n",
    "<li>sex: male or female </li>\n",
    "<li>rurality: rural, suburban, or urban </li>\n",
    "<li>household: number of people living in household </li>\n",
    "<li>water: gallons of clean water available </li>\n",
    "<li>food: food or no food </li>\n",
    "<li>medication: medication or no medication </li>\n",
    "<li>tools: tools or no tools </li>\n",
    "<li>firstaid: first aid or no first aid </li>\n",
    "<li>sanitation: sanitation or no sanitation </li>\n",
    "<li>clothing: clothing or no clothing</li>\n",
    "<li>documents: documents or no documents </li>\n",
    "</ul>"
   ]
  },
  {
   "cell_type": "code",
   "execution_count": null,
   "metadata": {
    "dc": {
     "key": "12"
    },
    "tags": [
     "sample_code"
    ]
   },
   "outputs": [],
   "source": []
  },
  {
   "cell_type": "markdown",
   "metadata": {
    "dc": {
     "key": "19"
    },
    "deletable": false,
    "editable": false,
    "run_control": {
     "frozen": true
    },
    "tags": [
     "context"
    ]
   },
   "source": [
    "## 3. Compare zombies and humans (part 2)\n",
    "<p>It looks like those who turned into zombies were older and had less available clean water. This suggests that getting water to the remaining humans might help protect them from the zombie hoards! Protecting older citizens is important, so we need to think about the best ways to reach this group. What are the other characteristics and supplies that differ between humans and zombies? Do zombies live in urban areas? Or are they more common in rural areas? Is water critical to staying human? Is food critical to staying human?</p>\n",
    "<p><br>\n",
    "<center>\n",
    "    <img src=\"https://assets.datacamp.com/production/project_668/img/hands-wide.jpg\" width=\"700px\">\n",
    "</center><br></p>"
   ]
  },
  {
   "cell_type": "code",
   "execution_count": null,
   "metadata": {
    "dc": {
     "key": "19"
    },
    "tags": [
     "sample_code"
    ]
   },
   "outputs": [],
   "source": []
  },
  {
   "cell_type": "markdown",
   "metadata": {
    "dc": {
     "key": "26"
    },
    "deletable": false,
    "editable": false,
    "run_control": {
     "frozen": true
    },
    "tags": [
     "context"
    ]
   },
   "source": [
    "## 4. Recode variables missing values\n",
    "<p>Hmm...it seems a little fishy that the <code>clothing</code> and <code>documents</code> variables have only one category in <code>prop.table()</code>. After checking with the data collectors, they told you that they recorded those without clothing or documents as missing values or <code>NA</code> rather than <code>No clothing</code> or <code>No documents</code>. </p>\n",
    "<p>To make sure the analyses are consistent and useful, the analysis team leader decides we should recode the <code>NA</code> values to <code>No clothing</code> and <code>No documents</code> for these two variables. </p>"
   ]
  },
  {
   "cell_type": "code",
   "execution_count": null,
   "metadata": {
    "dc": {
     "key": "26"
    },
    "tags": [
     "sample_code"
    ]
   },
   "outputs": [],
   "source": []
  },
  {
   "cell_type": "markdown",
   "metadata": {
    "dc": {
     "key": "33"
    },
    "deletable": false,
    "editable": false,
    "run_control": {
     "frozen": true
    },
    "tags": [
     "context"
    ]
   },
   "source": [
    "## 5. Selecting variables to predict zombie status\n",
    "<p>From Task 3, it appears that 70.4% of people in urban areas are zombies, while just 18.4% of those in rural areas are zombies. Getting humans out of cities and protecting those who cannot leave seems important!  </p>\n",
    "<p>For most of the supplies, there is less of a difference between humans and zombies, so it is difficult to decide what else to do. Since there is just one chance to get it right and every minute counts, the analysis team decides to conduct bivariate statistical tests to gain a better understanding of which differences in percents are statistically significantly associated with being a human or a zombie. </p>"
   ]
  },
  {
   "cell_type": "code",
   "execution_count": 80,
   "metadata": {
    "dc": {
     "key": "33"
    },
    "tags": [
     "sample_code"
    ]
   },
   "outputs": [
    {
     "data": {
      "text/plain": [
       "$zombie\n",
       "\n",
       "\tPearson's Chi-squared test with Yates' continuity correction\n",
       "\n",
       "data:  x and zombies.factors$zombie\n",
       "X-squared = 195.84, df = 1, p-value < 2.2e-16\n",
       "\n",
       "\n",
       "$sex\n",
       "\n",
       "\tPearson's Chi-squared test with Yates' continuity correction\n",
       "\n",
       "data:  x and zombies.factors$zombie\n",
       "X-squared = 0.21561, df = 1, p-value = 0.6424\n",
       "\n",
       "\n",
       "$rurality\n",
       "\n",
       "\tPearson's Chi-squared test\n",
       "\n",
       "data:  x and zombies.factors$zombie\n",
       "X-squared = 41.271, df = 2, p-value = 1.092e-09\n",
       "\n",
       "\n",
       "$food\n",
       "\n",
       "\tPearson's Chi-squared test with Yates' continuity correction\n",
       "\n",
       "data:  x and zombies.factors$zombie\n",
       "X-squared = 48.49, df = 1, p-value = 3.32e-12\n",
       "\n",
       "\n",
       "$medication\n",
       "\n",
       "\tPearson's Chi-squared test with Yates' continuity correction\n",
       "\n",
       "data:  x and zombies.factors$zombie\n",
       "X-squared = 35.747, df = 1, p-value = 2.247e-09\n",
       "\n",
       "\n",
       "$tools\n",
       "\n",
       "\tPearson's Chi-squared test with Yates' continuity correction\n",
       "\n",
       "data:  x and zombies.factors$zombie\n",
       "X-squared = 0, df = 1, p-value = 1\n",
       "\n",
       "\n",
       "$firstaid\n",
       "\n",
       "\tPearson's Chi-squared test with Yates' continuity correction\n",
       "\n",
       "data:  x and zombies.factors$zombie\n",
       "X-squared = 0.47178, df = 1, p-value = 0.4922\n",
       "\n",
       "\n",
       "$sanitation\n",
       "\n",
       "\tPearson's Chi-squared test with Yates' continuity correction\n",
       "\n",
       "data:  x and zombies.factors$zombie\n",
       "X-squared = 14.61, df = 1, p-value = 0.0001322\n",
       "\n",
       "\n",
       "$clothing\n",
       "\n",
       "\tPearson's Chi-squared test with Yates' continuity correction\n",
       "\n",
       "data:  x and zombies.factors$zombie\n",
       "X-squared = 0.26864, df = 1, p-value = 0.6042\n",
       "\n",
       "\n",
       "$documents\n",
       "\n",
       "\tPearson's Chi-squared test with Yates' continuity correction\n",
       "\n",
       "data:  x and zombies.factors$zombie\n",
       "X-squared = 1.206, df = 1, p-value = 0.2721\n",
       "\n"
      ]
     },
     "metadata": {},
     "output_type": "display_data"
    },
    {
     "data": {
      "text/plain": [
       "\n",
       "\tWelch Two Sample t-test\n",
       "\n",
       "data:  zombies$age by zombies$zombie\n",
       "t = -5.6247, df = 155.02, p-value = 8.453e-08\n",
       "alternative hypothesis: true difference in means is not equal to 0\n",
       "95 percent confidence interval:\n",
       " -18.099289  -8.690751\n",
       "sample estimates:\n",
       " mean in group Human mean in group Zombie \n",
       "            39.12397             52.51899 \n"
      ]
     },
     "metadata": {},
     "output_type": "display_data"
    },
    {
     "data": {
      "text/plain": [
       "\n",
       "\tWelch Two Sample t-test\n",
       "\n",
       "data:  zombies$water.person by zombies$zombie\n",
       "t = 5.5436, df = 197.43, p-value = 9.415e-08\n",
       "alternative hypothesis: true difference in means is not equal to 0\n",
       "95 percent confidence interval:\n",
       " 1.636281 3.443253\n",
       "sample estimates:\n",
       " mean in group Human mean in group Zombie \n",
       "            4.095041             1.555274 \n"
      ]
     },
     "metadata": {},
     "output_type": "display_data"
    }
   ],
   "source": [
    "# Update subset of factors\n",
    "zombies.factors <- zombies[ , sapply(zombies, is.factor)]\n",
    "\n",
    "# Chi-squared for factors\n",
    "chi.zombies <- lapply(zombies.factors, \n",
    "                       function(x){\n",
    "                           return(chisq.test(x, zombies.factors$zombie))\n",
    "                           })\n",
    "\n",
    "# T-tests for numeric\n",
    "ttest.age <- t.test(zombies$age ~ zombies$zombie)\n",
    "ttest.water <- t.test(zombies$water.person ~ zombies$zombie)    \n",
    "\n",
    "# Examine the results\n",
    "chi.zombies \n",
    "ttest.age \n",
    "ttest.water"
   ]
  },
  {
   "cell_type": "markdown",
   "metadata": {
    "dc": {
     "key": "40"
    },
    "deletable": false,
    "editable": false,
    "run_control": {
     "frozen": true
    },
    "tags": [
     "context"
    ]
   },
   "source": [
    "## 6. Build the model\n",
    "<p>Now we are getting somewhere! Rurality, food, medication, sanitation, age, and water per person have statistically significant relationships to zombie status. We use this information to coordinate the delivery of food and medication while we continue to examine the data!  </p>\n",
    "<p>The next step is to estimate a logistic regression model with <code>zombie</code> as the outcome. The generalized linear model command, <code>glm()</code>, can be used to determine whether and how each variable, and the set of variables together, contribute to predicting zombie status. Following <code>glm()</code>, <code>odds.n.ends()</code> computes model significance, fit, and odds ratios.</p>"
   ]
  },
  {
   "cell_type": "code",
   "execution_count": 82,
   "metadata": {
    "dc": {
     "key": "40"
    },
    "tags": [
     "sample_code"
    ]
   },
   "outputs": [
    {
     "name": "stderr",
     "output_type": "stream",
     "text": [
      "Waiting for profiling to be done...\n"
     ]
    },
    {
     "name": "stdout",
     "output_type": "stream",
     "text": [
      "$`Logistic regression model significance`\n",
      "Chi-squared        d.f.           p \n",
      "    145.596       7.000       0.000 \n",
      "\n",
      "$`Contingency tables (model fit): percent predicted`\n",
      "                 Percent observed\n",
      "Percent predicted     1     0   Sum\n",
      "              1   0.315 0.060 0.375\n",
      "              0   0.080 0.545 0.625\n",
      "              Sum 0.395 0.605 1.000\n",
      "\n",
      "$`Contingency tables (model fit): frequency predicted`\n",
      "                Number observed\n",
      "Number predicted   1   0 Sum\n",
      "             1    63  12  75\n",
      "             0    16 109 125\n",
      "             Sum  79 121 200\n",
      "\n",
      "$`Predictor odds ratios and 95% CI`\n",
      "                                 OR        2.5 %      97.5 %\n",
      "(Intercept)              0.00224594 0.0002093871  0.01622961\n",
      "age                      1.08005714 1.0485596858  1.11810998\n",
      "water.person             0.78377398 0.6600894297  0.91287014\n",
      "foodNo food              9.02618095 3.4071657576 26.70797145\n",
      "ruralitySuburban         3.69686205 1.2545823697 11.59438611\n",
      "ruralityUrban           14.55818400 4.5481528429 54.42513843\n",
      "medicationNo medication  5.52134058 2.0232321555 16.53129848\n",
      "sanitationSanitation     0.31417163 0.1177847153  0.78789714\n",
      "\n",
      "$`Model sensitivity`\n",
      "[1] 0.7974684\n",
      "\n",
      "$`Model specificity`\n",
      "[1] 0.9008264\n",
      "\n"
     ]
    }
   ],
   "source": [
    "# Create zombie model\n",
    "zombie.model <- glm(zombie ~ age + water.person + food + rurality + medication + sanitation,\n",
    "                   data = zombies, family = binomial(logit))\n",
    "\n",
    "# Model significance, fit, and odds ratios with 95% CI\n",
    "library(odds.n.ends)\n",
    "zombie.model.fit <- odds.n.ends(zombie.model)\n",
    "\n",
    "# Print the results of the odds.n.ends command\n",
    "print(zombie.model.fit)"
   ]
  },
  {
   "cell_type": "markdown",
   "metadata": {
    "dc": {
     "key": "47"
    },
    "deletable": false,
    "editable": false,
    "run_control": {
     "frozen": true
    },
    "tags": [
     "context"
    ]
   },
   "source": [
    "## 7. Checking model assumptions\n",
    "<p>The model is statistically significant (<font face=\"Symbol\">c</font><sup>2</sup> = 145.6; p &lt; 0.05), indicating that the variables in the model work together to help explain zombie status. Older age, having no food, living in suburban or urban areas (compared to rural), and having no access to medication increased the odds of being a zombie. Access to sanitation and having enough water decreased the odds of being a zombie. The model correctly predicted the zombie status of 63 zombies and 109 humans, or 172 of the 200 participants. Before relying on the model, check model assumptions: no multicollinearity and linearity.</p>\n",
    "<p>Checking multicollinearity:<br>\n",
    "We can use the generalized variance inflation factor (GVIF) to check for multicollinearity. The GVIF determines to what extent each independent variable can be explained by the rest of the independent variables. When an independent variable is well-explained by the other independent variables, the GVIF is high, indicating that the variable is redundant and should be dropped from the model. Values greater than two are often used to indicate a failed multicollinearity assumption.</p>\n",
    "<p><br>\n",
    "<center>\n",
    "GVIF<sup>(1/(2df))</sup> < 2\n",
    "<br>\n",
    "df = degrees of freedom\n",
    "</center>\n",
    "<br></p>\n",
    "<p>Checking linearity:<br>\n",
    "Linearity can be checked by graphing the log-odds of the outcome against each numeric predictor to see if the relationship is linear.</p>\n",
    "<p><br>\n",
    "<center>\n",
    "    <img src=\"https://assets.datacamp.com/production/project_668/img/test-assumptions-zombie.jpg\" width=\"400px\">\n",
    "</center><br></p>"
   ]
  },
  {
   "cell_type": "code",
   "execution_count": 84,
   "metadata": {
    "dc": {
     "key": "47"
    },
    "tags": [
     "sample_code"
    ]
   },
   "outputs": [
    {
     "data": {
      "text/html": [
       "<table>\n",
       "<caption>A matrix: 6 x 3 of type dbl</caption>\n",
       "<thead>\n",
       "\t<tr><th></th><th scope=col>GVIF</th><th scope=col>Df</th><th scope=col>GVIF^(1/(2*Df))</th></tr>\n",
       "</thead>\n",
       "<tbody>\n",
       "\t<tr><th scope=row>age</th><td>1.508748</td><td>1</td><td>1.228311</td></tr>\n",
       "\t<tr><th scope=row>water.person</th><td>1.188868</td><td>1</td><td>1.090352</td></tr>\n",
       "\t<tr><th scope=row>food</th><td>1.304250</td><td>1</td><td>1.142038</td></tr>\n",
       "\t<tr><th scope=row>rurality</th><td>1.313980</td><td>2</td><td>1.070649</td></tr>\n",
       "\t<tr><th scope=row>medication</th><td>1.271348</td><td>1</td><td>1.127541</td></tr>\n",
       "\t<tr><th scope=row>sanitation</th><td>1.102351</td><td>1</td><td>1.049929</td></tr>\n",
       "</tbody>\n",
       "</table>\n"
      ],
      "text/latex": [
       "A matrix: 6 x 3 of type dbl\n",
       "\\begin{tabular}{r|lll}\n",
       "  & GVIF & Df & GVIF\\textasciicircum{}(1/(2*Df))\\\\\n",
       "\\hline\n",
       "\tage & 1.508748 & 1 & 1.228311\\\\\n",
       "\twater.person & 1.188868 & 1 & 1.090352\\\\\n",
       "\tfood & 1.304250 & 1 & 1.142038\\\\\n",
       "\trurality & 1.313980 & 2 & 1.070649\\\\\n",
       "\tmedication & 1.271348 & 1 & 1.127541\\\\\n",
       "\tsanitation & 1.102351 & 1 & 1.049929\\\\\n",
       "\\end{tabular}\n"
      ],
      "text/markdown": [
       "\n",
       "A matrix: 6 x 3 of type dbl\n",
       "\n",
       "| <!--/--> | GVIF | Df | GVIF^(1/(2*Df)) |\n",
       "|---|---|---|---|\n",
       "| age | 1.508748 | 1 | 1.228311 |\n",
       "| water.person | 1.188868 | 1 | 1.090352 |\n",
       "| food | 1.304250 | 1 | 1.142038 |\n",
       "| rurality | 1.313980 | 2 | 1.070649 |\n",
       "| medication | 1.271348 | 1 | 1.127541 |\n",
       "| sanitation | 1.102351 | 1 | 1.049929 |\n",
       "\n"
      ],
      "text/plain": [
       "             GVIF     Df GVIF^(1/(2*Df))\n",
       "age          1.508748 1  1.228311       \n",
       "water.person 1.188868 1  1.090352       \n",
       "food         1.304250 1  1.142038       \n",
       "rurality     1.313980 2  1.070649       \n",
       "medication   1.271348 1  1.127541       \n",
       "sanitation   1.102351 1  1.049929       "
      ]
     },
     "metadata": {},
     "output_type": "display_data"
    },
    {
     "data": {
      "image/png": "[encoded data removed]",
      "text/plain": [
       "plot without title"
      ]
     },
     "metadata": {},
     "output_type": "display_data"
    }
   ],
   "source": [
    "# Compute GVIF \n",
    "library(car)\n",
    "vif(zombie.model)\n",
    "\n",
    "# Make a variable of the logit of the outcome\n",
    "zombies$logitZombie <- log(zombie.model$fitted.values/(1-zombie.model$fitted.values))\n",
    "\n",
    "# Graph the logit variable against age and water.person\n",
    "ageLinearity <- ggplot(data = zombies, aes(x = age, y = logitZombie))+\n",
    "  geom_point(color = \"gray\") +\n",
    "  geom_smooth(method = \"loess\", se = FALSE, color = \"orange\") + \n",
    "  geom_smooth(method = \"lm\", se = FALSE, color = \"gray\") + \n",
    "  theme_bw() \n",
    "\n",
    "waterPersonLin <- ggplot(data = zombies, aes(x = water.person, y = logitZombie))+\n",
    "  geom_point(color = \"gray\") +\n",
    "  geom_smooth(method = \"loess\", se = FALSE, color = \"orange\") + \n",
    "  geom_smooth(method = \"lm\", se = FALSE, color = \"gray\") + \n",
    "  theme_bw() \n",
    "\n",
    "# View both plots side-by-side\n",
    "grid.arrange(ageLinearity, waterPersonLin, ncol = 2)"
   ]
  },
  {
   "cell_type": "markdown",
   "metadata": {
    "dc": {
     "key": "54"
    },
    "deletable": false,
    "editable": false,
    "run_control": {
     "frozen": true
    },
    "tags": [
     "context"
    ]
   },
   "source": [
    "## 8. Interpreting assumptions and making predictions\n",
    "<p>We find that the GVIF scores are low, indicating the model meets the assumption of no perfect multicollinearity. The plots show relatively minor deviation from the linearity assumption for <code>age</code> and <code>water.person</code>. The assumptions appear to be sufficiently met. </p>\n",
    "<p>One of your friends on the analysis team hasn't been able to reach her dad or brother for hours, but she knows that they have food, medicine, and sanitation from an earlier phone conversation. Her 71-year-old dad lives alone in a suburban area and is excellent at preparedness; he has about five gallons of water. Her 40-year-old brother lives in an urban area and estimated three gallons of water per person. She decides to use the model to compute the probability they are zombies.</p>"
   ]
  },
  {
   "cell_type": "code",
   "execution_count": 86,
   "metadata": {
    "dc": {
     "key": "54"
    },
    "tags": [
     "sample_code"
    ]
   },
   "outputs": [
    {
     "data": {
      "text/html": [
       "<dl class=dl-horizontal>\n",
       "\t<dt>1</dt>\n",
       "\t\t<dd>0.154576938664796</dd>\n",
       "\t<dt>2</dt>\n",
       "\t\t<dd>0.0972079734855113</dd>\n",
       "</dl>\n"
      ],
      "text/latex": [
       "\\begin{description*}\n",
       "\\item[1] 0.154576938664796\n",
       "\\item[2] 0.0972079734855113\n",
       "\\end{description*}\n"
      ],
      "text/markdown": [
       "1\n",
       ":   0.1545769386647962\n",
       ":   0.0972079734855113\n",
       "\n"
      ],
      "text/plain": [
       "         1          2 \n",
       "0.15457694 0.09720797 "
      ]
     },
     "metadata": {},
     "output_type": "display_data"
    }
   ],
   "source": [
    "# Make a new data frame with the relatives data in it \n",
    "newdata <- data.frame(age = c(71, 40), \n",
    "                      water.person = c(5, 3),\n",
    "                      food = c(\"Food\", \"Food\"),\n",
    "                      rurality = c(\"Suburban\", \"Urban\"),\n",
    "                      medication = c(\"Medication\", \"Medication\"),\n",
    "                      sanitation = c(\"Sanitation\", \"Sanitation\"))\n",
    "\n",
    "# Use the new data frame to predict \n",
    "predictions <- predict(zombie.model, newdata, type = \"response\")\n",
    "\n",
    "# Print the predicted probabilities\n",
    "predictions"
   ]
  },
  {
   "cell_type": "markdown",
   "metadata": {
    "dc": {
     "key": "61"
    },
    "deletable": false,
    "editable": false,
    "run_control": {
     "frozen": true
    },
    "tags": [
     "context"
    ]
   },
   "source": [
    "## 9. What is your zombie probability?\n",
    "<p>Her dad has about a 15.5 percent chance of being a zombie and her brother has less than a 10 percent chance. It looks like they are probably safe, which is a big relief! She comes back to the team to start working on a plan to distribute food and common types of medication to keep others safe. The team discusses what it would take to start evacuating urban areas to get people to rural parts of the country where there is a lower percent of zombies. While the team is working on these plans, one thought keeps distracting you...your family may be safe, <b>but how safe are you?</b></p>\n",
    "<p>Add your own real-life data to the <code>newdata</code> data frame and predict your own probability of becoming a zombie!</p>"
   ]
  },
  {
   "cell_type": "code",
   "execution_count": 88,
   "metadata": {
    "dc": {
     "key": "61"
    },
    "tags": [
     "sample_code"
    ]
   },
   "outputs": [
    {
     "data": {
      "text/html": [
       "<dl class=dl-horizontal>\n",
       "\t<dt>1</dt>\n",
       "\t\t<dd>0.154576938664796</dd>\n",
       "\t<dt>2</dt>\n",
       "\t\t<dd>0.0972079734855113</dd>\n",
       "\t<dt>3</dt>\n",
       "\t\t<dd>0.0459437767383328</dd>\n",
       "</dl>\n"
      ],
      "text/latex": [
       "\\begin{description*}\n",
       "\\item[1] 0.154576938664796\n",
       "\\item[2] 0.0972079734855113\n",
       "\\item[3] 0.0459437767383328\n",
       "\\end{description*}\n"
      ],
      "text/markdown": [
       "1\n",
       ":   0.1545769386647962\n",
       ":   0.09720797348551133\n",
       ":   0.0459437767383328\n",
       "\n"
      ],
      "text/plain": [
       "         1          2          3 \n",
       "0.15457694 0.09720797 0.04594378 "
      ]
     },
     "metadata": {},
     "output_type": "display_data"
    }
   ],
   "source": [
    "# Add your data to the newdata data frame\n",
    "newdata <- data.frame(age = c(71, 40, 22), \n",
    "                      water.person = c(5, 3, 2),\n",
    "                      food = c(\"Food\", \"Food\", \"Food\"),\n",
    "                      rurality = c(\"Suburban\", \"Urban\", \"Suburban\"),\n",
    "                      medication = c(\"Medication\", \"Medication\", \"No medication\"),\n",
    "                      sanitation = c(\"Sanitation\", \"Sanitation\", \"Sanitation\"))\n",
    "\n",
    "# Use the new data frame to predict \n",
    "predictions <- predict(zombie.model, newdata, type = \"response\")\n",
    "\n",
    "# Print the predictions\n",
    "predictions"
   ]
  },
  {
   "cell_type": "markdown",
   "metadata": {
    "dc": {
     "key": "68"
    },
    "deletable": false,
    "editable": false,
    "run_control": {
     "frozen": true
    },
    "tags": [
     "context"
    ]
   },
   "source": [
    "## 10. Are you ready for the zombie apocalypse?\n",
    "<p>While it is unlikely to be a zombie apocalypse will happen in the near future, the information presented in this notebook draws on emergency preparedness recommendations from the CDC. Although there is no way to make ourselves younger, we can have food, water, medication, and other supplies ready to ensure we are safe in the event of a blizzard, flood, tornado, or another emergency. After computing your zombie probability, think about what you could personally do to increase the likelihood that you will stay safe in the next storm or zombie apocalypse.</p>\n",
    "<p><br>\n",
    "<center>\n",
    "    <img src=\"https://assets.datacamp.com/production/project_668/img/zombie-wide.jpg\" width=\"700px\">\n",
    "</center><br></p>"
   ]
  },
  {
   "cell_type": "code",
   "execution_count": 90,
   "metadata": {
    "dc": {
     "key": "68"
    },
    "tags": [
     "sample_code"
    ]
   },
   "outputs": [],
   "source": [
    "# What is your probability of becoming a zombie?\n",
    "me <- 0.0459437767383328\n",
    "\n",
    "# How prepared are you for a real emergency?\n",
    "preparedness_level  <- \"I got this!\""
   ]
  }
 ],
 "metadata": {
  "kernelspec": {
   "display_name": "Python 3",
   "language": "python",
   "name": "python3"
  },
  "language_info": {
   "codemirror_mode": {
    "name": "ipython",
    "version": 3
   },
   "file_extension": ".py",
   "mimetype": "text/x-python",
   "name": "python",
   "nbconvert_exporter": "python",
   "pygments_lexer": "ipython3",
   "version": "3.6.5"
  }
 },
 "nbformat": 4,
 "nbformat_minor": 2
}
